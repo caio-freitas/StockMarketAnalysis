{
 "cells": [
  {
   "cell_type": "code",
   "execution_count": 1,
   "metadata": {},
   "outputs": [],
   "source": [
    "import pandas as pd\n",
    "import numpy as np\n",
    "import matplotlib.pyplot as plt"
   ]
  },
  {
   "cell_type": "code",
   "execution_count": 2,
   "metadata": {},
   "outputs": [
    {
     "data": {
      "text/html": [
       "<div>\n",
       "<style scoped>\n",
       "    .dataframe tbody tr th:only-of-type {\n",
       "        vertical-align: middle;\n",
       "    }\n",
       "\n",
       "    .dataframe tbody tr th {\n",
       "        vertical-align: top;\n",
       "    }\n",
       "\n",
       "    .dataframe thead th {\n",
       "        text-align: right;\n",
       "    }\n",
       "</style>\n",
       "<table border=\"1\" class=\"dataframe\">\n",
       "  <thead>\n",
       "    <tr style=\"text-align: right;\">\n",
       "      <th></th>\n",
       "      <th>Code</th>\n",
       "      <th>Date</th>\n",
       "      <th>AvgPrc</th>\n",
       "      <th>MaxPrc</th>\n",
       "    </tr>\n",
       "    <tr>\n",
       "      <th>codes</th>\n",
       "      <th></th>\n",
       "      <th></th>\n",
       "      <th></th>\n",
       "      <th></th>\n",
       "    </tr>\n",
       "  </thead>\n",
       "  <tbody>\n",
       "    <tr>\n",
       "      <th>AALL34</th>\n",
       "      <td>NaN</td>\n",
       "      <td>NaN</td>\n",
       "      <td>Date\n",
       "2019-10-03    103.00\n",
       "2019-10-09    109.40...</td>\n",
       "      <td>Date\n",
       "2019-10-03    103.00\n",
       "2019-10-09    109.40...</td>\n",
       "    </tr>\n",
       "    <tr>\n",
       "      <th>AALL34F</th>\n",
       "      <td>NaN</td>\n",
       "      <td>NaN</td>\n",
       "      <td>Date\n",
       "2019-08-16    193.89\n",
       "2019-12-17    115.85...</td>\n",
       "      <td>Date\n",
       "2019-08-16    193.89\n",
       "2019-12-17    115.85...</td>\n",
       "    </tr>\n",
       "    <tr>\n",
       "      <th>AALR3</th>\n",
       "      <td>NaN</td>\n",
       "      <td>NaN</td>\n",
       "      <td>Date\n",
       "2019-01-02    13.33\n",
       "2019-01-03    13.40\n",
       "2...</td>\n",
       "      <td>Date\n",
       "2019-01-02    13.50\n",
       "2019-01-03    13.65\n",
       "2...</td>\n",
       "    </tr>\n",
       "    <tr>\n",
       "      <th>AALR3F</th>\n",
       "      <td>NaN</td>\n",
       "      <td>NaN</td>\n",
       "      <td>Date\n",
       "2019-01-02    13.32\n",
       "2019-01-03    13.47\n",
       "2...</td>\n",
       "      <td>Date\n",
       "2019-01-02    13.61\n",
       "2019-01-03    13.70\n",
       "2...</td>\n",
       "    </tr>\n",
       "    <tr>\n",
       "      <th>AALR3T</th>\n",
       "      <td>NaN</td>\n",
       "      <td>NaN</td>\n",
       "      <td>Date\n",
       "2019-01-14    13.40\n",
       "2019-01-22    14.27\n",
       "2...</td>\n",
       "      <td>Date\n",
       "2019-01-14    13.41\n",
       "2019-01-22    14.28\n",
       "2...</td>\n",
       "    </tr>\n",
       "  </tbody>\n",
       "</table>\n",
       "</div>"
      ],
      "text/plain": [
       "        Code Date                                             AvgPrc  \\\n",
       "codes                                                                  \n",
       "AALL34   NaN  NaN  Date\n",
       "2019-10-03    103.00\n",
       "2019-10-09    109.40...   \n",
       "AALL34F  NaN  NaN  Date\n",
       "2019-08-16    193.89\n",
       "2019-12-17    115.85...   \n",
       "AALR3    NaN  NaN  Date\n",
       "2019-01-02    13.33\n",
       "2019-01-03    13.40\n",
       "2...   \n",
       "AALR3F   NaN  NaN  Date\n",
       "2019-01-02    13.32\n",
       "2019-01-03    13.47\n",
       "2...   \n",
       "AALR3T   NaN  NaN  Date\n",
       "2019-01-14    13.40\n",
       "2019-01-22    14.27\n",
       "2...   \n",
       "\n",
       "                                                    MaxPrc  \n",
       "codes                                                       \n",
       "AALL34   Date\n",
       "2019-10-03    103.00\n",
       "2019-10-09    109.40...  \n",
       "AALL34F  Date\n",
       "2019-08-16    193.89\n",
       "2019-12-17    115.85...  \n",
       "AALR3    Date\n",
       "2019-01-02    13.50\n",
       "2019-01-03    13.65\n",
       "2...  \n",
       "AALR3F   Date\n",
       "2019-01-02    13.61\n",
       "2019-01-03    13.70\n",
       "2...  \n",
       "AALR3T   Date\n",
       "2019-01-14    13.41\n",
       "2019-01-22    14.28\n",
       "2...  "
      ]
     },
     "execution_count": 2,
     "metadata": {},
     "output_type": "execute_result"
    }
   ],
   "source": [
    "data = pd.read_pickle(\"yearly_bovespa.pkl\")\n",
    "data.head()"
   ]
  },
  {
   "cell_type": "code",
   "execution_count": 3,
   "metadata": {},
   "outputs": [
    {
     "data": {
      "text/plain": [
       "Date\n",
       "2019-01-02    15.95\n",
       "2019-01-03    16.08\n",
       "2019-01-04    16.49\n",
       "2019-01-07    16.50\n",
       "2019-01-08    16.31\n",
       "Name: AvgPrc, dtype: float64"
      ]
     },
     "execution_count": 3,
     "metadata": {},
     "output_type": "execute_result"
    }
   ],
   "source": [
    "data[\"AvgPrc\"][\"ABEV3\"].head()"
   ]
  },
  {
   "cell_type": "code",
   "execution_count": 4,
   "metadata": {},
   "outputs": [
    {
     "data": {
      "text/plain": [
       "15.95"
      ]
     },
     "execution_count": 4,
     "metadata": {},
     "output_type": "execute_result"
    }
   ],
   "source": [
    "data[\"AvgPrc\"][\"ABEV3\"][0]"
   ]
  },
  {
   "cell_type": "code",
   "execution_count": 5,
   "metadata": {},
   "outputs": [],
   "source": [
    "def plot_avg_prc(code, dataframe):\n",
    "    plt.figure(1, (16, 6))\n",
    "\n",
    "    plt.xlabel('Time')\n",
    "    plt.title('Stocks Average Price')\n",
    "\n",
    "    plt.text(\"2019-01\", dataframe[\"AvgPrc\"][code][0] + 3, code)\n",
    "    plt.plot(dataframe[\"AvgPrc\"][code], 'b', linewidth=1)\n",
    "\n",
    "    plt.grid()"
   ]
  },
  {
   "cell_type": "code",
   "execution_count": 6,
   "metadata": {},
   "outputs": [
    {
     "name": "stderr",
     "output_type": "stream",
     "text": [
      "/usr/local/lib/python3.5/dist-packages/pandas/plotting/_converter.py:129: FutureWarning: Using an implicitly registered datetime converter for a matplotlib plotting method. The converter was registered by pandas on import. Future versions of pandas will require you to explicitly register matplotlib converters.\n",
      "\n",
      "To register the converters:\n",
      "\t>>> from pandas.plotting import register_matplotlib_converters\n",
      "\t>>> register_matplotlib_converters()\n",
      "  warnings.warn(msg, FutureWarning)\n"
     ]
    },
    {
     "data": {
      "image/png": "[encoded data removed]",
      "text/plain": [
       "<Figure size 1152x432 with 1 Axes>"
      ]
     },
     "metadata": {
      "needs_background": "light"
     },
     "output_type": "display_data"
    }
   ],
   "source": [
    "plot_avg_prc(\"AZUL4\", data)"
   ]
  },
  {
   "cell_type": "markdown",
   "metadata": {},
   "source": [
    "## Calculating change percentage between the averages of two days, and plotting the frequency distribution, we have"
   ]
  },
  {
   "cell_type": "code",
   "execution_count": 7,
   "metadata": {},
   "outputs": [],
   "source": [
    "def calc_freq_series(code, dataframe, param):\n",
    "    if not code in dataframe[param]:\n",
    "        print(\"Error, code not present on dataset\")\n",
    "        return None\n",
    "    percentage_series = pd.Series(index=data[param][code].index)\n",
    "    for i in range(1, data[param][code].size):\n",
    "        percentage_series[i-1] = (data[param][code][i] - data[param][code][i-1])/data[param][code][i-1]\n",
    "    return percentage_series\n",
    "        \n",
    "        \n",
    "        "
   ]
  },
  {
   "cell_type": "code",
   "execution_count": 9,
   "metadata": {},
   "outputs": [
    {
     "name": "stdout",
     "output_type": "stream",
     "text": [
      "Standard deviation of percentage changes: 1.08899536724475%\n",
      "Mean of percentage changes: 0.10996041220913319%\n"
     ]
    },
    {
     "data": {
      "image/png": "[encoded data removed]",
      "text/plain": [
       "<Figure size 432x288 with 1 Axes>"
      ]
     },
     "metadata": {
      "needs_background": "light"
     },
     "output_type": "display_data"
    }
   ],
   "source": [
    "p_s = calc_freq_series(\"MGFF11\", data, \"AvgPrc\")\n",
    "plt.plot(p_s)\n",
    "print(\"Standard deviation of percentage changes: \" + str(100*p_s.std()) + \"%\")\n",
    "print(\"Mean of percentage changes: \" + str(100*p_s.mean()) + \"%\")"
   ]
  },
  {
   "cell_type": "code",
   "execution_count": 19,
   "metadata": {},
   "outputs": [
    {
     "data": {
      "image/png": "[encoded data removed]",
      "text/plain": [
       "<Figure size 720x432 with 1 Axes>"
      ]
     },
     "metadata": {
      "needs_background": "light"
     },
     "output_type": "display_data"
    }
   ],
   "source": [
    "plt.figure(1, (10,6))\n",
    "plt.hist(p_s.value_counts().index, 50, facecolor='g', alpha=0.75)\n",
    "plt.ylabel('Probability')\n",
    "plt.title('Histogram of Percentage Changes')\n",
    "plt.grid(True)"
   ]
  },
  {
   "cell_type": "code",
   "execution_count": 85,
   "metadata": {},
   "outputs": [
    {
     "name": "stdout",
     "output_type": "stream",
     "text": [
      "AxesSubplot(0.125,0.125;0.775x0.755)\n"
     ]
    },
    {
     "data": {
      "text/plain": [
       "<matplotlib.lines.Line2D at 0x7ffb668b12b0>"
      ]
     },
     "execution_count": 85,
     "metadata": {},
     "output_type": "execute_result"
    },
    {
     "data": {
      "image/png": "[encoded data removed]",
      "text/plain": [
       "<Figure size 432x288 with 1 Axes>"
      ]
     },
     "metadata": {
      "needs_background": "light"
     },
     "output_type": "display_data"
    }
   ],
   "source": [
    "coeficients = p_s.plot.density()\n",
    "print(coeficients)\n",
    "plt.figure(1)\n",
    "plt.xlabel(\"99% confidence region\")\n",
    "plt.axvline(p_s.mean() + 2.33*p_s.std(), color='r', linestyle='--')\n",
    "plt.axvline(p_s.mean() - 2.33*p_s.std(), color='r', linestyle='--')"
   ]
  },
  {
   "cell_type": "markdown",
   "metadata": {},
   "source": [
    "### Now let's make a function that calculates it all, plots and returns\n",
    "\n",
    "* Mean value\n",
    "* Standard Deviation (Volatility)"
   ]
  },
  {
   "cell_type": "code",
   "execution_count": 24,
   "metadata": {},
   "outputs": [],
   "source": [
    "def calc_freq_distribution(code, dataframe, param):\n",
    "    if not code in dataframe[param]:\n",
    "        print(\"Error, code not present on dataset\")\n",
    "        return None\n",
    "    percentage_distribution = pd.Series(index=data[param][code].index)\n",
    "    for i in range(1, data[param][code].size):\n",
    "        percentage_distribution[i-1] = (data[param][code][i] - data[param][code][i-1])/data[param][code][i]\n",
    "    \n",
    "    plt.figure(1, (10, 6))\n",
    "    plt.hist(percentage_distribution.value_counts().index, 30, facecolor='g', alpha=0.75)\n",
    "    plt.xlabel(\"99% confidence region\")\n",
    "    plt.axvline(percentage_distribution.mean() + 2.33*percentage_distribution.std(), color='r', linestyle='--')\n",
    "    plt.axvline(percentage_distribution.mean() - 2.33*percentage_distribution.std(), color='r', linestyle='--')\n",
    "    \n",
    "    print(\"Mean: \" + str(100*percentage_distribution.mean()) + \"%\")\n",
    "    print(\"Standard Deviation: \" + str(100*percentage_distribution.std()) + \"%\")\n",
    "    \n",
    "    print(\"Boundaries: [\" + str(100*(percentage_distribution.mean() - 2.33*percentage_distribution.std())) + \"%, \" + str(100*(percentage_distribution.mean() + 2.33*percentage_distribution.std())) + \"%]\")\n",
    "    \n",
    "    plt.figure(2, (10, 6))\n",
    "    percentage_distribution.plot.kde()\n",
    "    plt.xlabel(\"99% confidence region\")\n",
    "    plt.axvline(percentage_distribution.mean() + 2.33*percentage_distribution.std(), color='r', linestyle='--')\n",
    "    plt.axvline(percentage_distribution.mean() - 2.33*percentage_distribution.std(), color='r', linestyle='--')\n",
    "    \n",
    "    \n",
    "    return percentage_distribution.mean(), percentage_distribution.std()"
   ]
  },
  {
   "cell_type": "code",
   "execution_count": 25,
   "metadata": {},
   "outputs": [
    {
     "name": "stdout",
     "output_type": "stream",
     "text": [
      "Mean: 0.09727125013776605%\n",
      "Standard Deviation: 1.1628709919907503%\n",
      "Boundaries: [-2.612218161200682%, 2.806760661476214%]\n"
     ]
    },
    {
     "data": {
      "text/plain": [
       "(0.0009727125013776605, 0.011628709919907502)"
      ]
     },
     "execution_count": 25,
     "metadata": {},
     "output_type": "execute_result"
    },
    {
     "data": {
      "image/png": "[encoded data removed]",
      "text/plain": [
       "<Figure size 720x432 with 1 Axes>"
      ]
     },
     "metadata": {
      "needs_background": "light"
     },
     "output_type": "display_data"
    },
    {
     "data": {
      "image/png": "[encoded data removed]",
      "text/plain": [
       "<Figure size 720x432 with 1 Axes>"
      ]
     },
     "metadata": {
      "needs_background": "light"
     },
     "output_type": "display_data"
    }
   ],
   "source": [
    "calc_freq_distribution(\"MGFF11\", data, \"AvgPrc\")"
   ]
  },
  {
   "cell_type": "markdown",
   "metadata": {},
   "source": [
    "## Portfolio Analysis\n",
    "8 assets in 10/01/2019:\n",
    "* AZUL4F\n",
    "* BRCR11\n",
    "* B3SA3F\n",
    "* IDNT3F\n",
    "* ITSA4F\n",
    "* IVVB11\n",
    "* MGFF11\n",
    "* QUAL3F"
   ]
  },
  {
   "cell_type": "code",
   "execution_count": 26,
   "metadata": {},
   "outputs": [],
   "source": [
    "assets = [\"AZUL4F\", \"BRCR11\", \"B3SA3F\", \"IDNT3F\", \"ITSA4F\", \"IVVB11\", \"MGFF11\", \"QUAL3F\"]\n",
    "#In the order above, the position vector is\n",
    "X = np.single([57.72, 121.50, 45.59, 6.64, 26.90, 142.8, 118.4, 39.87])#, dtype=np.float)"
   ]
  },
  {
   "cell_type": "code",
   "execution_count": 27,
   "metadata": {},
   "outputs": [
    {
     "data": {
      "text/plain": [
       "codes\n",
       "AZUL4F    Date\n",
       "2019-01-02    36.08\n",
       "2019-01-03    36.41\n",
       "2...\n",
       "BRCR11    Date\n",
       "2019-01-02    103.84\n",
       "2019-01-03    104.87...\n",
       "B3SA3F    Date\n",
       "2019-01-02    27.46\n",
       "2019-01-03    28.40\n",
       "2...\n",
       "IDNT3F    Date\n",
       "2019-01-02    5.80\n",
       "2019-01-03    5.86\n",
       "201...\n",
       "ITSA4F    Date\n",
       "2019-01-02    12.46\n",
       "2019-01-03    12.60\n",
       "2...\n",
       "IVVB11    Date\n",
       "2019-01-02    101.03\n",
       "2019-01-03     99.08...\n",
       "MGFF11    Date\n",
       "2019-01-02     91.51\n",
       "2019-01-03     93.86...\n",
       "QUAL3F    Date\n",
       "2019-01-02    13.11\n",
       "2019-01-03    13.75\n",
       "2...\n",
       "Name: AvgPrc, dtype: object"
      ]
     },
     "execution_count": 27,
     "metadata": {},
     "output_type": "execute_result"
    }
   ],
   "source": [
    "df = data[\"AvgPrc\"][assets]\n",
    "df"
   ]
  },
  {
   "cell_type": "code",
   "execution_count": 32,
   "metadata": {},
   "outputs": [
    {
     "data": {
      "text/html": [
       "<div>\n",
       "<style scoped>\n",
       "    .dataframe tbody tr th:only-of-type {\n",
       "        vertical-align: middle;\n",
       "    }\n",
       "\n",
       "    .dataframe tbody tr th {\n",
       "        vertical-align: top;\n",
       "    }\n",
       "\n",
       "    .dataframe thead th {\n",
       "        text-align: right;\n",
       "    }\n",
       "</style>\n",
       "<table border=\"1\" class=\"dataframe\">\n",
       "  <thead>\n",
       "    <tr style=\"text-align: right;\">\n",
       "      <th></th>\n",
       "      <th>AZUL4F</th>\n",
       "      <th>BRCR11</th>\n",
       "      <th>B3SA3F</th>\n",
       "      <th>IDNT3F</th>\n",
       "      <th>ITSA4F</th>\n",
       "      <th>IVVB11</th>\n",
       "      <th>MGFF11</th>\n",
       "      <th>QUAL3F</th>\n",
       "    </tr>\n",
       "  </thead>\n",
       "  <tbody>\n",
       "    <tr>\n",
       "      <th>AZUL4F</th>\n",
       "      <td>1</td>\n",
       "      <td>-0.124629</td>\n",
       "      <td>0.936822</td>\n",
       "      <td>-0.371401</td>\n",
       "      <td>0.620567</td>\n",
       "      <td>0.735135</td>\n",
       "      <td>0.68882</td>\n",
       "      <td>0.885968</td>\n",
       "    </tr>\n",
       "    <tr>\n",
       "      <th>BRCR11</th>\n",
       "      <td>-0.124629</td>\n",
       "      <td>1</td>\n",
       "      <td>-0.308678</td>\n",
       "      <td>0.548554</td>\n",
       "      <td>0.384891</td>\n",
       "      <td>-0.435395</td>\n",
       "      <td>-0.164254</td>\n",
       "      <td>-0.288893</td>\n",
       "    </tr>\n",
       "    <tr>\n",
       "      <th>B3SA3F</th>\n",
       "      <td>0.936822</td>\n",
       "      <td>-0.308678</td>\n",
       "      <td>1</td>\n",
       "      <td>-0.534172</td>\n",
       "      <td>0.544428</td>\n",
       "      <td>0.876649</td>\n",
       "      <td>0.790279</td>\n",
       "      <td>0.962641</td>\n",
       "    </tr>\n",
       "    <tr>\n",
       "      <th>IDNT3F</th>\n",
       "      <td>-0.371401</td>\n",
       "      <td>0.548554</td>\n",
       "      <td>-0.534172</td>\n",
       "      <td>1</td>\n",
       "      <td>0.0152514</td>\n",
       "      <td>-0.708421</td>\n",
       "      <td>-0.498426</td>\n",
       "      <td>-0.524304</td>\n",
       "    </tr>\n",
       "    <tr>\n",
       "      <th>ITSA4F</th>\n",
       "      <td>0.620567</td>\n",
       "      <td>0.384891</td>\n",
       "      <td>0.544428</td>\n",
       "      <td>0.0152514</td>\n",
       "      <td>1</td>\n",
       "      <td>0.284136</td>\n",
       "      <td>0.511681</td>\n",
       "      <td>0.526098</td>\n",
       "    </tr>\n",
       "    <tr>\n",
       "      <th>IVVB11</th>\n",
       "      <td>0.735135</td>\n",
       "      <td>-0.435395</td>\n",
       "      <td>0.876649</td>\n",
       "      <td>-0.708421</td>\n",
       "      <td>0.284136</td>\n",
       "      <td>1</td>\n",
       "      <td>0.847445</td>\n",
       "      <td>0.904213</td>\n",
       "    </tr>\n",
       "    <tr>\n",
       "      <th>MGFF11</th>\n",
       "      <td>0.68882</td>\n",
       "      <td>-0.164254</td>\n",
       "      <td>0.790279</td>\n",
       "      <td>-0.498426</td>\n",
       "      <td>0.511681</td>\n",
       "      <td>0.847445</td>\n",
       "      <td>1</td>\n",
       "      <td>0.852429</td>\n",
       "    </tr>\n",
       "    <tr>\n",
       "      <th>QUAL3F</th>\n",
       "      <td>0.885968</td>\n",
       "      <td>-0.288893</td>\n",
       "      <td>0.962641</td>\n",
       "      <td>-0.524304</td>\n",
       "      <td>0.526098</td>\n",
       "      <td>0.904213</td>\n",
       "      <td>0.852429</td>\n",
       "      <td>1</td>\n",
       "    </tr>\n",
       "  </tbody>\n",
       "</table>\n",
       "</div>"
      ],
      "text/plain": [
       "          AZUL4F    BRCR11    B3SA3F     IDNT3F     ITSA4F    IVVB11  \\\n",
       "AZUL4F         1 -0.124629  0.936822  -0.371401   0.620567  0.735135   \n",
       "BRCR11 -0.124629         1 -0.308678   0.548554   0.384891 -0.435395   \n",
       "B3SA3F  0.936822 -0.308678         1  -0.534172   0.544428  0.876649   \n",
       "IDNT3F -0.371401  0.548554 -0.534172          1  0.0152514 -0.708421   \n",
       "ITSA4F  0.620567  0.384891  0.544428  0.0152514          1  0.284136   \n",
       "IVVB11  0.735135 -0.435395  0.876649  -0.708421   0.284136         1   \n",
       "MGFF11   0.68882 -0.164254  0.790279  -0.498426   0.511681  0.847445   \n",
       "QUAL3F  0.885968 -0.288893  0.962641  -0.524304   0.526098  0.904213   \n",
       "\n",
       "          MGFF11    QUAL3F  \n",
       "AZUL4F   0.68882  0.885968  \n",
       "BRCR11 -0.164254 -0.288893  \n",
       "B3SA3F  0.790279  0.962641  \n",
       "IDNT3F -0.498426 -0.524304  \n",
       "ITSA4F  0.511681  0.526098  \n",
       "IVVB11  0.847445  0.904213  \n",
       "MGFF11         1  0.852429  \n",
       "QUAL3F  0.852429         1  "
      ]
     },
     "execution_count": 32,
     "metadata": {},
     "output_type": "execute_result"
    }
   ],
   "source": [
    "sigma = pd.DataFrame(index = assets, columns = assets)\n",
    "for asset in assets:\n",
    "    for asset2 in assets:\n",
    "        sigma[asset][asset2] = df[asset].corr(df[asset2])\n",
    "sigma"
   ]
  },
  {
   "cell_type": "code",
   "execution_count": 164,
   "metadata": {},
   "outputs": [
    {
     "data": {
      "text/plain": [
       "140353.68047825946"
      ]
     },
     "execution_count": 164,
     "metadata": {},
     "output_type": "execute_result"
    }
   ],
   "source": [
    "(X.dot(sigma.to_numpy())).dot(X.transpose())"
   ]
  },
  {
   "cell_type": "markdown",
   "metadata": {},
   "source": [
    "### That's the variance of our entire portfolio\n",
    "Let's make a function for that as well"
   ]
  },
  {
   "cell_type": "code",
   "execution_count": 29,
   "metadata": {},
   "outputs": [],
   "source": [
    "def calc_portfolio_variance(assets, X, df):\n",
    "    sigma = pd.DataFrame(index = assets, columns = assets)\n",
    "    for asset in assets:\n",
    "        for asset2 in assets:\n",
    "            sigma[asset][asset2] = df[asset].cov(df[asset2])\n",
    "\n",
    "    s2 = (X.dot(sigma.to_numpy())).dot(X.transpose())\n",
    "    s = np.sqrt(s2) #std deviation (volatility)\n",
    "\n",
    "    return s2"
   ]
  },
  {
   "cell_type": "code",
   "execution_count": 33,
   "metadata": {},
   "outputs": [
    {
     "data": {
      "text/plain": [
       "9078677.991207875"
      ]
     },
     "execution_count": 33,
     "metadata": {},
     "output_type": "execute_result"
    }
   ],
   "source": [
    "calc_portfolio_variance(assets, X, df)"
   ]
  },
  {
   "cell_type": "code",
   "execution_count": null,
   "metadata": {},
   "outputs": [],
   "source": []
  }
 ],
 "metadata": {
  "kernelspec": {
   "display_name": "Python 3",
   "language": "python",
   "name": "python3"
  },
  "language_info": {
   "codemirror_mode": {
    "name": "ipython",
    "version": 3
   },
   "file_extension": ".py",
   "mimetype": "text/x-python",
   "name": "python",
   "nbconvert_exporter": "python",
   "pygments_lexer": "ipython3",
   "version": "3.5.2"
  }
 },
 "nbformat": 4,
 "nbformat_minor": 2
}
